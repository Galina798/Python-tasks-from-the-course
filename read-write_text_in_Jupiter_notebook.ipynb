{
 "cells": [
  {
   "cell_type": "markdown",
   "id": "321d052a",
   "metadata": {},
   "source": [
    "модуль 15.1. Чтение и запись информации в файлы\n",
    "\n",
    "открытие и чтение файла с локальной папки:"
   ]
  },
  {
   "cell_type": "code",
   "execution_count": 12,
   "id": "7cb7c3ab",
   "metadata": {
    "scrolled": true
   },
   "outputs": [
    {
     "name": "stdout",
     "output_type": "stream",
     "text": [
      "И взглянул - как в первые раза\n",
      "Не глядят.\n",
      "Черные глаза глотнули взгляд.\n",
      "\n",
      "Вскинула ресницы и стою\n",
      "- Что, - светла? -\n",
      "Не скажу, что выпита дотла.\n",
      "\n",
      "Все до капли поглотил зрачок\n",
      "И стою.\n",
      "И течет твоя душа в мою.\n"
     ]
    }
   ],
   "source": [
    "path ='C:/Users/Дмитрий/Desktop/One.txt'\n",
    "my_file = open (path, 'rt', encoding = 'utf8')\n",
    "print (my_file.read())\n",
    "my_file.close()"
   ]
  },
  {
   "cell_type": "markdown",
   "id": "a092415e",
   "metadata": {},
   "source": [
    "запись дополнительной строки:"
   ]
  },
  {
   "cell_type": "code",
   "execution_count": 14,
   "id": "971cf0d7",
   "metadata": {},
   "outputs": [
    {
     "name": "stdout",
     "output_type": "stream",
     "text": [
      "И взглянул - как в первые раза\n",
      "Не глядят.\n",
      "Черные глаза глотнули взгляд.\n",
      "\n",
      "Вскинула ресницы и стою\n",
      "- Что, - светла? -\n",
      "Не скажу, что выпита дотла.\n",
      "\n",
      "Все до капли поглотил зрачок\n",
      "И стою.\n",
      "И течет твоя душа в мою.\n",
      "      Марина Цветаева\n"
     ]
    }
   ],
   "source": [
    "my_file = open (path, 'a', encoding = 'utf8')\n",
    "my_file.write ('\\n     автор: Марина Цветаева')\n",
    "my_file.close\n",
    "my_file = open (path, 'rt', encoding = 'utf8')\n",
    "print(my_file.read())\n",
    "my_file.close()"
   ]
  },
  {
   "cell_type": "markdown",
   "id": "18bb4d3c",
   "metadata": {},
   "source": [
    "шифрование текста со сдвигом"
   ]
  },
  {
   "cell_type": "code",
   "execution_count": 19,
   "id": "cfb7e4f3",
   "metadata": {},
   "outputs": [
    {
     "name": "stdout",
     "output_type": "stream",
     "text": [
      "Введите число, но которое нужно сдвинуть текст: 3\n",
      "М елжоврцо - нгн е тиуеыи углг\n",
      "Ри жовзвх.\n",
      "Ьиурыи жоглг жосхрцом елжовз.\n",
      "\n",
      "Ефнмрцог уифрмщы м фхсб\n",
      "- Ьхс, - феихог? -\n",
      "Ри фнгкц, ъхс еытмхг зсхог.\n",
      "\n",
      "Ефи зс нгтом тсжосхмо лугъсн\n",
      "М фхсб.\n",
      "М хиъих хесв зцьг е псб.\n"
     ]
    }
   ],
   "source": [
    "first_var = 'абвгдежзиклмнопрстуфхцчшщъьэюя'\n",
    "second_var = 'АБВГДЕЖЗИКЛМНОПРСТУФХЦЧШЩЬЪЭЮЯ'\n",
    "number = int(input('Введите число, но которое нужно сдвинуть текст: '))\n",
    "\n",
    "results = ''\n",
    "\n",
    "def change_char (char):\n",
    "    if char in first_var:\n",
    "        return first_var [(first_var.index(char)+number)%len(first_var)]\n",
    "    elif char in second_var:\n",
    "        return second_var[(second_var.index(char)+number)%len(second_var)]\n",
    "    else:\n",
    "        return char\n",
    "\n",
    "my_file = open(path, encoding = 'utf8')\n",
    "for line in my_file:\n",
    "    for char in line:\n",
    "        results = results + change_char(char)\n",
    "my_file.close()\n",
    "            \n",
    "my_file = open (path, 'w', encoding = 'utf8')\n",
    "my_file.write (results)\n",
    "my_file.close()\n",
    "    \n",
    "my_file = open (path, 'rt', encoding = 'utf8')\n",
    "print(my_file.read())\n",
    "my_file.close()"
   ]
  },
  {
   "cell_type": "code",
   "execution_count": null,
   "id": "0bab232f",
   "metadata": {},
   "outputs": [],
   "source": []
  }
 ],
 "metadata": {
  "kernelspec": {
   "display_name": "Python 3",
   "language": "python",
   "name": "python3"
  },
  "language_info": {
   "codemirror_mode": {
    "name": "ipython",
    "version": 3
   },
   "file_extension": ".py",
   "mimetype": "text/x-python",
   "name": "python",
   "nbconvert_exporter": "python",
   "pygments_lexer": "ipython3",
   "version": "3.8.8"
  }
 },
 "nbformat": 4,
 "nbformat_minor": 5
}
